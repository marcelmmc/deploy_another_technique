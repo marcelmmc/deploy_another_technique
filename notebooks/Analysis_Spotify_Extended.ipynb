{
 "cells": [
  {
   "attachments": {},
   "cell_type": "markdown",
   "metadata": {},
   "source": [
    "# Analyis of Extended Dataset - Spotify"
   ]
  },
  {
   "attachments": {},
   "cell_type": "markdown",
   "metadata": {},
   "source": [
    "Folder Structure (from root):\n",
    "- README.md\n",
    "- .gitignore\n",
    "- out/\n",
    "- milestone/\n",
    "- data/\n",
    "    - spotify/jacopo/\n",
    "        - MyData-Spotify/\n",
    "        - MyData-Spotify-Extended/\n",
    "        - out/\n",
    "- images/"
   ]
  },
  {
   "cell_type": "code",
   "execution_count": 5,
   "metadata": {},
   "outputs": [],
   "source": [
    "# Imports\n",
    "import pandas as pd\n",
    "import json\n"
   ]
  },
  {
   "cell_type": "code",
   "execution_count": 14,
   "metadata": {},
   "outputs": [
    {
     "data": {
      "text/html": [
       "<div>\n",
       "<style scoped>\n",
       "    .dataframe tbody tr th:only-of-type {\n",
       "        vertical-align: middle;\n",
       "    }\n",
       "\n",
       "    .dataframe tbody tr th {\n",
       "        vertical-align: top;\n",
       "    }\n",
       "\n",
       "    .dataframe thead th {\n",
       "        text-align: right;\n",
       "    }\n",
       "</style>\n",
       "<table border=\"1\" class=\"dataframe\">\n",
       "  <thead>\n",
       "    <tr style=\"text-align: right;\">\n",
       "      <th></th>\n",
       "      <th>ts</th>\n",
       "      <th>ms_played</th>\n",
       "      <th>conn_country</th>\n",
       "      <th>ip_addr_decrypted</th>\n",
       "      <th>user_agent_decrypted</th>\n",
       "      <th>master_metadata_track_name</th>\n",
       "      <th>master_metadata_album_artist_name</th>\n",
       "      <th>master_metadata_album_album_name</th>\n",
       "      <th>spotify_track_uri</th>\n",
       "      <th>episode_name</th>\n",
       "      <th>episode_show_name</th>\n",
       "      <th>spotify_episode_uri</th>\n",
       "      <th>reason_start</th>\n",
       "      <th>reason_end</th>\n",
       "      <th>shuffle</th>\n",
       "      <th>skipped</th>\n",
       "      <th>offline</th>\n",
       "      <th>offline_timestamp</th>\n",
       "      <th>incognito_mode</th>\n",
       "    </tr>\n",
       "  </thead>\n",
       "  <tbody>\n",
       "    <tr>\n",
       "      <th>0</th>\n",
       "      <td>2018-09-24T17:43:57Z</td>\n",
       "      <td>235382</td>\n",
       "      <td>CH</td>\n",
       "      <td>85.218.54.155</td>\n",
       "      <td>unknown</td>\n",
       "      <td>Sing</td>\n",
       "      <td>Ed Sheeran</td>\n",
       "      <td>x</td>\n",
       "      <td>spotify:track:6K8qKeWo5MsFED7wCR6Kop</td>\n",
       "      <td>None</td>\n",
       "      <td>None</td>\n",
       "      <td>None</td>\n",
       "      <td>fwdbtn</td>\n",
       "      <td>trackdone</td>\n",
       "      <td>True</td>\n",
       "      <td>None</td>\n",
       "      <td>True</td>\n",
       "      <td>1537810148612</td>\n",
       "      <td>False</td>\n",
       "    </tr>\n",
       "    <tr>\n",
       "      <th>1</th>\n",
       "      <td>2020-03-06T09:44:10Z</td>\n",
       "      <td>2368</td>\n",
       "      <td>CH</td>\n",
       "      <td>128.179.199.223</td>\n",
       "      <td>unknown</td>\n",
       "      <td>everything i wanted</td>\n",
       "      <td>Billie Eilish</td>\n",
       "      <td>everything i wanted</td>\n",
       "      <td>spotify:track:3ZCTVFBt2Brf31RLEnCkWJ</td>\n",
       "      <td>None</td>\n",
       "      <td>None</td>\n",
       "      <td>None</td>\n",
       "      <td>fwdbtn</td>\n",
       "      <td>fwdbtn</td>\n",
       "      <td>False</td>\n",
       "      <td>None</td>\n",
       "      <td>True</td>\n",
       "      <td>1583486421161</td>\n",
       "      <td>False</td>\n",
       "    </tr>\n",
       "    <tr>\n",
       "      <th>2</th>\n",
       "      <td>2022-10-26T18:01:03Z</td>\n",
       "      <td>243625</td>\n",
       "      <td>CH</td>\n",
       "      <td>128.179.147.205</td>\n",
       "      <td>unknown</td>\n",
       "      <td>Recovery</td>\n",
       "      <td>Jon Hopkins</td>\n",
       "      <td>Singularity</td>\n",
       "      <td>spotify:track:76KAhZF6OzEzNXs4gotNO0</td>\n",
       "      <td>None</td>\n",
       "      <td>None</td>\n",
       "      <td>None</td>\n",
       "      <td>trackdone</td>\n",
       "      <td>trackdone</td>\n",
       "      <td>True</td>\n",
       "      <td>False</td>\n",
       "      <td>False</td>\n",
       "      <td>1666807020</td>\n",
       "      <td>False</td>\n",
       "    </tr>\n",
       "    <tr>\n",
       "      <th>3</th>\n",
       "      <td>2017-12-13T07:48:31Z</td>\n",
       "      <td>236618</td>\n",
       "      <td>IT</td>\n",
       "      <td>93.66.237.129</td>\n",
       "      <td>unknown</td>\n",
       "      <td>Hollow (Acoustic)</td>\n",
       "      <td>Belle Mt.</td>\n",
       "      <td>Hollow (Acoustic)</td>\n",
       "      <td>spotify:track:1GIBQJItFW5tFPrilr6M6o</td>\n",
       "      <td>None</td>\n",
       "      <td>None</td>\n",
       "      <td>None</td>\n",
       "      <td>trackdone</td>\n",
       "      <td>trackdone</td>\n",
       "      <td>True</td>\n",
       "      <td>None</td>\n",
       "      <td>False</td>\n",
       "      <td>1513151074062</td>\n",
       "      <td>False</td>\n",
       "    </tr>\n",
       "    <tr>\n",
       "      <th>4</th>\n",
       "      <td>2019-12-12T17:07:29Z</td>\n",
       "      <td>1685</td>\n",
       "      <td>CH</td>\n",
       "      <td>128.179.156.101</td>\n",
       "      <td>unknown</td>\n",
       "      <td>I Bet My Life</td>\n",
       "      <td>Imagine Dragons</td>\n",
       "      <td>Smoke + Mirrors</td>\n",
       "      <td>spotify:track:0ct0vSOkP0IZnbPGiDltCR</td>\n",
       "      <td>None</td>\n",
       "      <td>None</td>\n",
       "      <td>None</td>\n",
       "      <td>fwdbtn</td>\n",
       "      <td>backbtn</td>\n",
       "      <td>True</td>\n",
       "      <td>None</td>\n",
       "      <td>False</td>\n",
       "      <td>1576170447040</td>\n",
       "      <td>False</td>\n",
       "    </tr>\n",
       "  </tbody>\n",
       "</table>\n",
       "</div>"
      ],
      "text/plain": [
       "                     ts  ms_played conn_country ip_addr_decrypted  \\\n",
       "0  2018-09-24T17:43:57Z     235382           CH     85.218.54.155   \n",
       "1  2020-03-06T09:44:10Z       2368           CH   128.179.199.223   \n",
       "2  2022-10-26T18:01:03Z     243625           CH   128.179.147.205   \n",
       "3  2017-12-13T07:48:31Z     236618           IT     93.66.237.129   \n",
       "4  2019-12-12T17:07:29Z       1685           CH   128.179.156.101   \n",
       "\n",
       "  user_agent_decrypted master_metadata_track_name  \\\n",
       "0              unknown                       Sing   \n",
       "1              unknown        everything i wanted   \n",
       "2              unknown                   Recovery   \n",
       "3              unknown          Hollow (Acoustic)   \n",
       "4              unknown              I Bet My Life   \n",
       "\n",
       "  master_metadata_album_artist_name master_metadata_album_album_name  \\\n",
       "0                        Ed Sheeran                                x   \n",
       "1                     Billie Eilish              everything i wanted   \n",
       "2                       Jon Hopkins                      Singularity   \n",
       "3                         Belle Mt.                Hollow (Acoustic)   \n",
       "4                   Imagine Dragons                  Smoke + Mirrors   \n",
       "\n",
       "                      spotify_track_uri episode_name episode_show_name  \\\n",
       "0  spotify:track:6K8qKeWo5MsFED7wCR6Kop         None              None   \n",
       "1  spotify:track:3ZCTVFBt2Brf31RLEnCkWJ         None              None   \n",
       "2  spotify:track:76KAhZF6OzEzNXs4gotNO0         None              None   \n",
       "3  spotify:track:1GIBQJItFW5tFPrilr6M6o         None              None   \n",
       "4  spotify:track:0ct0vSOkP0IZnbPGiDltCR         None              None   \n",
       "\n",
       "  spotify_episode_uri reason_start reason_end  shuffle skipped  offline  \\\n",
       "0                None       fwdbtn  trackdone     True    None     True   \n",
       "1                None       fwdbtn     fwdbtn    False    None     True   \n",
       "2                None    trackdone  trackdone     True   False    False   \n",
       "3                None    trackdone  trackdone     True    None    False   \n",
       "4                None       fwdbtn    backbtn     True    None    False   \n",
       "\n",
       "   offline_timestamp  incognito_mode  \n",
       "0      1537810148612           False  \n",
       "1      1583486421161           False  \n",
       "2         1666807020           False  \n",
       "3      1513151074062           False  \n",
       "4      1576170447040           False  "
      ]
     },
     "execution_count": 14,
     "metadata": {},
     "output_type": "execute_result"
    }
   ],
   "source": [
    "data_path = '../data/spotify/jacopo/MyData-Spotify-Extended/'\n",
    "data_list = []\n",
    "\n",
    "# Load all JSON files (endsong_0 to endsong_6), split at 10MB by Spotify\n",
    "for i in range(7):\n",
    "    with open(data_path + f'endsong_{i}.json', 'r') as f:\n",
    "        data_list.extend(json.load(f))\n",
    "\n",
    "# Convert the combined list of dictionaries into a DataFrame\n",
    "data = pd.DataFrame(data_list)\n",
    "data.drop(['username', 'platform'], axis=1, inplace=True)  # Anonymize data at minimum (remove unique username and platform info)\n",
    "\n",
    "data.head()\n"
   ]
  },
  {
   "cell_type": "code",
   "execution_count": 19,
   "metadata": {},
   "outputs": [
    {
     "data": {
      "text/plain": [
       "(115009, 19)"
      ]
     },
     "execution_count": 19,
     "metadata": {},
     "output_type": "execute_result"
    }
   ],
   "source": [
    "data.shape"
   ]
  },
  {
   "cell_type": "code",
   "execution_count": 17,
   "metadata": {},
   "outputs": [
    {
     "name": "stdout",
     "output_type": "stream",
     "text": [
      "<class 'pandas.core.frame.DataFrame'>\n",
      "RangeIndex: 115009 entries, 0 to 115008\n",
      "Data columns (total 19 columns):\n",
      " #   Column                             Non-Null Count   Dtype \n",
      "---  ------                             --------------   ----- \n",
      " 0   ts                                 115009 non-null  object\n",
      " 1   ms_played                          115009 non-null  int64 \n",
      " 2   conn_country                       115009 non-null  object\n",
      " 3   ip_addr_decrypted                  115009 non-null  object\n",
      " 4   user_agent_decrypted               115009 non-null  object\n",
      " 5   master_metadata_track_name         114499 non-null  object\n",
      " 6   master_metadata_album_artist_name  114499 non-null  object\n",
      " 7   master_metadata_album_album_name   114499 non-null  object\n",
      " 8   spotify_track_uri                  114499 non-null  object\n",
      " 9   episode_name                       313 non-null     object\n",
      " 10  episode_show_name                  313 non-null     object\n",
      " 11  spotify_episode_uri                313 non-null     object\n",
      " 12  reason_start                       115009 non-null  object\n",
      " 13  reason_end                         115009 non-null  object\n",
      " 14  shuffle                            115009 non-null  bool  \n",
      " 15  skipped                            15340 non-null   object\n",
      " 16  offline                            115009 non-null  bool  \n",
      " 17  offline_timestamp                  115009 non-null  int64 \n",
      " 18  incognito_mode                     115009 non-null  bool  \n",
      "dtypes: bool(3), int64(2), object(14)\n",
      "memory usage: 14.4+ MB\n"
     ]
    }
   ],
   "source": [
    "data.info()"
   ]
  },
  {
   "cell_type": "code",
   "execution_count": 20,
   "metadata": {},
   "outputs": [],
   "source": [
    "# remove other useless + save to csv\n",
    "# we also remove episodes and focus on songs\n",
    "data.drop(['user_agent_decrypted', 'episode_name', 'episode_show_name', 'spotify_episode_uri', 'reason_start', 'reason_end', 'shuffle', 'skipped', 'incognito_mode'], axis=1, inplace=True)"
   ]
  },
  {
   "cell_type": "code",
   "execution_count": 21,
   "metadata": {},
   "outputs": [
    {
     "data": {
      "text/plain": [
       "(115009, 10)"
      ]
     },
     "execution_count": 21,
     "metadata": {},
     "output_type": "execute_result"
    }
   ],
   "source": [
    "data.to_csv('../data/spotify/jacopo/out/playback_extended_songs.csv', index=False)\n",
    "data.shape"
   ]
  }
 ],
 "metadata": {
  "kernelspec": {
   "display_name": "ada",
   "language": "python",
   "name": "python3"
  },
  "language_info": {
   "codemirror_mode": {
    "name": "ipython",
    "version": 3
   },
   "file_extension": ".py",
   "mimetype": "text/x-python",
   "name": "python",
   "nbconvert_exporter": "python",
   "pygments_lexer": "ipython3",
   "version": "3.10.8"
  },
  "orig_nbformat": 4
 },
 "nbformat": 4,
 "nbformat_minor": 2
}
